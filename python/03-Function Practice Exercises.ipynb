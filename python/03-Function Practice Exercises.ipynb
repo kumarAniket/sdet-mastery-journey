{
 "cells": [
  {
   "cell_type": "markdown",
   "metadata": {},
   "source": [
    "___\n",
    "\n",
    "<a href='https://www.udemy.com/user/joseportilla/'><img src='../Pierian_Data_Logo.png'/></a>\n",
    "___\n",
    "<center><em>Content Copyright by Pierian Data</em></center>"
   ]
  },
  {
   "cell_type": "markdown",
   "metadata": {},
   "source": [
    "# Function Practice Exercises\n",
    "\n",
    "Problems are arranged in increasing difficulty:\n",
    "* Warmup - these can be solved using basic comparisons and methods\n",
    "* Level 1 - these may involve if/then conditional statements and simple methods\n",
    "* Level 2 - these may require iterating over sequences, usually with some kind of loop\n",
    "* Challenging - these will take some creativity to solve"
   ]
  },
  {
   "cell_type": "markdown",
   "metadata": {},
   "source": [
    "## WARMUP SECTION:"
   ]
  },
  {
   "cell_type": "markdown",
   "metadata": {},
   "source": [
    "#### LESSER OF TWO EVENS: Write a function that returns the lesser of two given numbers *if* both numbers are even, but returns the greater if one or both numbers are odd\n",
    "    lesser_of_two_evens(2,4) --> 2\n",
    "    lesser_of_two_evens(2,5) --> 5"
   ]
  },
  {
   "cell_type": "code",
   "metadata": {
    "collapsed": true,
    "ExecuteTime": {
     "end_time": "2025-10-07T05:56:30.893932Z",
     "start_time": "2025-10-07T05:56:30.860173Z"
    }
   },
   "source": [
    "def lesser_of_two_evens(a,b):\n",
    "    if a%2==0 and b%2==0:\n",
    "        return min(a,b)\n",
    "    else:\n",
    "        return max(a,b)"
   ],
   "outputs": [],
   "execution_count": 1
  },
  {
   "cell_type": "code",
   "metadata": {
    "collapsed": true,
    "ExecuteTime": {
     "end_time": "2025-10-07T05:56:36.153363Z",
     "start_time": "2025-10-07T05:56:36.117868Z"
    }
   },
   "source": [
    "# Check\n",
    "lesser_of_two_evens(2,4)"
   ],
   "outputs": [
    {
     "data": {
      "text/plain": [
       "2"
      ]
     },
     "execution_count": 2,
     "metadata": {},
     "output_type": "execute_result"
    }
   ],
   "execution_count": 2
  },
  {
   "cell_type": "code",
   "metadata": {
    "collapsed": true,
    "ExecuteTime": {
     "end_time": "2025-10-07T05:56:38.496894Z",
     "start_time": "2025-10-07T05:56:38.471559Z"
    }
   },
   "source": [
    "# Check\n",
    "lesser_of_two_evens(2,5)"
   ],
   "outputs": [
    {
     "data": {
      "text/plain": [
       "5"
      ]
     },
     "execution_count": 3,
     "metadata": {},
     "output_type": "execute_result"
    }
   ],
   "execution_count": 3
  },
  {
   "cell_type": "markdown",
   "metadata": {},
   "source": [
    "#### ANIMAL CRACKERS: Write a function takes a two-word string and returns True if both words begin with same letter\n",
    "    animal_crackers('Levelheaded Llama') --> True\n",
    "    animal_crackers('Crazy Kangaroo') --> False"
   ]
  },
  {
   "cell_type": "code",
   "metadata": {
    "collapsed": true,
    "ExecuteTime": {
     "end_time": "2025-10-07T05:59:47.564053Z",
     "start_time": "2025-10-07T05:59:47.558054Z"
    }
   },
   "source": [
    "def animal_crackers(text):\n",
    "    words=text.split(' ')\n",
    "    if words[0][0] == words[1][0]:\n",
    "        return True\n",
    "    else:\n",
    "        return False"
   ],
   "outputs": [],
   "execution_count": 8
  },
  {
   "cell_type": "code",
   "metadata": {
    "collapsed": true,
    "ExecuteTime": {
     "end_time": "2025-10-07T05:59:49.396711Z",
     "start_time": "2025-10-07T05:59:49.371885Z"
    }
   },
   "source": [
    "# Check\n",
    "animal_crackers('Levelheaded Llama')"
   ],
   "outputs": [
    {
     "data": {
      "text/plain": [
       "True"
      ]
     },
     "execution_count": 9,
     "metadata": {},
     "output_type": "execute_result"
    }
   ],
   "execution_count": 9
  },
  {
   "cell_type": "code",
   "metadata": {
    "collapsed": true,
    "ExecuteTime": {
     "end_time": "2025-10-07T05:59:52.172018Z",
     "start_time": "2025-10-07T05:59:52.147352Z"
    }
   },
   "source": [
    "# Check\n",
    "animal_crackers('Crazy Kangaroo')"
   ],
   "outputs": [
    {
     "data": {
      "text/plain": [
       "False"
      ]
     },
     "execution_count": 10,
     "metadata": {},
     "output_type": "execute_result"
    }
   ],
   "execution_count": 10
  },
  {
   "cell_type": "markdown",
   "metadata": {},
   "source": [
    "#### MAKES TWENTY: Given two integers, return True if the sum of the integers is 20 *or* if one of the integers is 20. If not, return False\n",
    "\n",
    "    makes_twenty(20,10) --> True\n",
    "    makes_twenty(12,8) --> True\n",
    "    makes_twenty(2,3) --> False"
   ]
  },
  {
   "cell_type": "code",
   "metadata": {
    "collapsed": true,
    "ExecuteTime": {
     "end_time": "2025-10-07T06:00:41.726514Z",
     "start_time": "2025-10-07T06:00:41.717219Z"
    }
   },
   "source": [
    "def makes_twenty(n1,n2):\n",
    "    if (n1==20 or n2==20) or n1+n2==20:\n",
    "        return True\n",
    "    else:\n",
    "        return False"
   ],
   "outputs": [],
   "execution_count": 12
  },
  {
   "cell_type": "code",
   "metadata": {
    "collapsed": true,
    "ExecuteTime": {
     "end_time": "2025-10-07T06:00:56.118506Z",
     "start_time": "2025-10-07T06:00:56.101457Z"
    }
   },
   "source": [
    "# Check\n",
    "makes_twenty(12,8)"
   ],
   "outputs": [
    {
     "data": {
      "text/plain": [
       "True"
      ]
     },
     "execution_count": 15,
     "metadata": {},
     "output_type": "execute_result"
    }
   ],
   "execution_count": 15
  },
  {
   "cell_type": "code",
   "metadata": {
    "collapsed": true,
    "ExecuteTime": {
     "end_time": "2025-10-07T06:00:45.502740Z",
     "start_time": "2025-10-07T06:00:45.488020Z"
    }
   },
   "source": [
    "# Check\n",
    "makes_twenty(2,3)"
   ],
   "outputs": [
    {
     "data": {
      "text/plain": [
       "False"
      ]
     },
     "execution_count": 14,
     "metadata": {},
     "output_type": "execute_result"
    }
   ],
   "execution_count": 14
  },
  {
   "cell_type": "markdown",
   "metadata": {},
   "source": [
    "# LEVEL 1 PROBLEMS"
   ]
  },
  {
   "cell_type": "markdown",
   "metadata": {},
   "source": [
    "#### OLD MACDONALD: Write a function that capitalizes the first and fourth letters of a name\n",
    "     \n",
    "    old_macdonald('macdonald') --> MacDonald\n",
    "    \n",
    "Note: `'macdonald'.capitalize()` returns `'Macdonald'`"
   ]
  },
  {
   "cell_type": "code",
   "metadata": {
    "collapsed": true,
    "ExecuteTime": {
     "end_time": "2025-10-07T06:02:58.914098Z",
     "start_time": "2025-10-07T06:02:58.904877Z"
    }
   },
   "source": [
    "def old_macdonald(name):\n",
    "    updated_name=''\n",
    "    for index in range(len(name)):\n",
    "        if index==0 or index==3:\n",
    "            updated_name+=name[index].upper()\n",
    "        else:\n",
    "            updated_name+=name[index]\n",
    "    return updated_name"
   ],
   "outputs": [],
   "execution_count": 22
  },
  {
   "cell_type": "code",
   "metadata": {
    "collapsed": true,
    "ExecuteTime": {
     "end_time": "2025-10-07T06:03:01.324536Z",
     "start_time": "2025-10-07T06:03:01.313224Z"
    }
   },
   "source": [
    "# Check\n",
    "old_macdonald('macdonald')"
   ],
   "outputs": [
    {
     "data": {
      "text/plain": [
       "'MacDonald'"
      ]
     },
     "execution_count": 23,
     "metadata": {},
     "output_type": "execute_result"
    }
   ],
   "execution_count": 23
  },
  {
   "cell_type": "markdown",
   "metadata": {},
   "source": [
    "#### MASTER YODA: Given a sentence, return a sentence with the words reversed\n",
    "\n",
    "    master_yoda('I am home') --> 'home am I'\n",
    "    master_yoda('We are ready') --> 'ready are We'\n",
    "    \n",
    "Note: The .join() method may be useful here. The .join() method allows you to join together strings in a list with some connector string. For example, some uses of the .join() method:\n",
    "\n",
    "    >>> \"--\".join(['a','b','c'])\n",
    "    >>> 'a--b--c'\n",
    "\n",
    "This means if you had a list of words you wanted to turn back into a sentence, you could just join them with a single space string:\n",
    "\n",
    "    >>> \" \".join(['Hello','world'])\n",
    "    >>> \"Hello world\""
   ]
  },
  {
   "cell_type": "code",
   "metadata": {
    "collapsed": true,
    "ExecuteTime": {
     "end_time": "2025-10-07T06:04:06.018344Z",
     "start_time": "2025-10-07T06:04:06.011244Z"
    }
   },
   "source": [
    "def master_yoda(text):\n",
    "    words = text.split(' ')\n",
    "    return \" \".join(words[::-1])"
   ],
   "outputs": [],
   "execution_count": 26
  },
  {
   "cell_type": "code",
   "metadata": {
    "collapsed": true,
    "ExecuteTime": {
     "end_time": "2025-10-07T06:04:08.017511Z",
     "start_time": "2025-10-07T06:04:08.007501Z"
    }
   },
   "source": [
    "# Check\n",
    "master_yoda('I am home')"
   ],
   "outputs": [
    {
     "data": {
      "text/plain": [
       "'home am I'"
      ]
     },
     "execution_count": 27,
     "metadata": {},
     "output_type": "execute_result"
    }
   ],
   "execution_count": 27
  },
  {
   "cell_type": "code",
   "metadata": {
    "collapsed": true,
    "ExecuteTime": {
     "end_time": "2025-10-07T06:04:18.397479Z",
     "start_time": "2025-10-07T06:04:18.381534Z"
    }
   },
   "source": [
    "# Check\n",
    "master_yoda('We are ready')"
   ],
   "outputs": [
    {
     "data": {
      "text/plain": [
       "'ready are We'"
      ]
     },
     "execution_count": 28,
     "metadata": {},
     "output_type": "execute_result"
    }
   ],
   "execution_count": 28
  },
  {
   "cell_type": "markdown",
   "metadata": {},
   "source": [
    "#### ALMOST THERE: Given an integer n, return True if n is within 10 of either 100 or 200\n",
    "\n",
    "    almost_there(90) --> True\n",
    "    almost_there(104) --> True\n",
    "    almost_there(150) --> False\n",
    "    almost_there(209) --> True\n",
    "    \n",
    "NOTE: `abs(num)` returns the absolute value of a number"
   ]
  },
  {
   "cell_type": "code",
   "metadata": {
    "collapsed": true,
    "ExecuteTime": {
     "end_time": "2025-10-07T06:05:54.027895Z",
     "start_time": "2025-10-07T06:05:54.017569Z"
    }
   },
   "source": [
    "def almost_there(n):\n",
    "    return (90<n<110) or (190<n<210)"
   ],
   "outputs": [],
   "execution_count": 33
  },
  {
   "cell_type": "code",
   "metadata": {
    "collapsed": true,
    "ExecuteTime": {
     "end_time": "2025-10-07T06:05:55.200555Z",
     "start_time": "2025-10-07T06:05:55.186190Z"
    }
   },
   "source": [
    "# Check\n",
    "almost_there(104)"
   ],
   "outputs": [
    {
     "data": {
      "text/plain": [
       "True"
      ]
     },
     "execution_count": 34,
     "metadata": {},
     "output_type": "execute_result"
    }
   ],
   "execution_count": 34
  },
  {
   "cell_type": "code",
   "metadata": {
    "collapsed": true,
    "ExecuteTime": {
     "end_time": "2025-10-07T06:05:59.450379Z",
     "start_time": "2025-10-07T06:05:59.439697Z"
    }
   },
   "source": [
    "# Check\n",
    "almost_there(150)"
   ],
   "outputs": [
    {
     "data": {
      "text/plain": [
       "False"
      ]
     },
     "execution_count": 35,
     "metadata": {},
     "output_type": "execute_result"
    }
   ],
   "execution_count": 35
  },
  {
   "cell_type": "code",
   "metadata": {
    "collapsed": true,
    "ExecuteTime": {
     "end_time": "2025-10-07T06:06:01.822067Z",
     "start_time": "2025-10-07T06:06:01.807477Z"
    }
   },
   "source": [
    "# Check\n",
    "almost_there(209)"
   ],
   "outputs": [
    {
     "data": {
      "text/plain": [
       "True"
      ]
     },
     "execution_count": 36,
     "metadata": {},
     "output_type": "execute_result"
    }
   ],
   "execution_count": 36
  },
  {
   "cell_type": "markdown",
   "metadata": {},
   "source": [
    "# LEVEL 2 PROBLEMS"
   ]
  },
  {
   "cell_type": "markdown",
   "metadata": {},
   "source": [
    "#### FIND 33: \n",
    "\n",
    "Given a list of ints, return True if the array contains a 3 next to a 3 somewhere.\n",
    "\n",
    "    has_33([1, 3, 3]) → True\n",
    "    has_33([1, 3, 1, 3]) → False\n",
    "    has_33([3, 1, 3]) → False"
   ]
  },
  {
   "cell_type": "code",
   "metadata": {
    "collapsed": true,
    "ExecuteTime": {
     "end_time": "2025-10-07T06:47:56.020922Z",
     "start_time": "2025-10-07T06:47:56.013024Z"
    }
   },
   "source": [
    "def has_33(nums):\n",
    "    for index in range(0,len(nums)-1):\n",
    "        if int(nums[index])==3 and int(nums[index+1])==3:\n",
    "            return True\n",
    "        else:\n",
    "            continue\n",
    "    return False"
   ],
   "outputs": [],
   "execution_count": 80
  },
  {
   "cell_type": "code",
   "metadata": {
    "collapsed": true,
    "ExecuteTime": {
     "end_time": "2025-10-07T06:47:59.690042Z",
     "start_time": "2025-10-07T06:47:59.678481Z"
    }
   },
   "source": [
    "# Check\n",
    "has_33([1, 3, 3])"
   ],
   "outputs": [
    {
     "data": {
      "text/plain": [
       "True"
      ]
     },
     "execution_count": 81,
     "metadata": {},
     "output_type": "execute_result"
    }
   ],
   "execution_count": 81
  },
  {
   "cell_type": "code",
   "metadata": {
    "collapsed": true,
    "ExecuteTime": {
     "end_time": "2025-10-07T06:48:03.239299Z",
     "start_time": "2025-10-07T06:48:03.228114Z"
    }
   },
   "source": [
    "# Check\n",
    "has_33([1, 3, 1, 3])"
   ],
   "outputs": [
    {
     "data": {
      "text/plain": [
       "False"
      ]
     },
     "execution_count": 82,
     "metadata": {},
     "output_type": "execute_result"
    }
   ],
   "execution_count": 82
  },
  {
   "cell_type": "code",
   "metadata": {
    "collapsed": true,
    "ExecuteTime": {
     "end_time": "2025-10-07T06:48:04.970854Z",
     "start_time": "2025-10-07T06:48:04.958249Z"
    }
   },
   "source": [
    "# Check\n",
    "has_33([3, 1, 3])"
   ],
   "outputs": [
    {
     "data": {
      "text/plain": [
       "False"
      ]
     },
     "execution_count": 83,
     "metadata": {},
     "output_type": "execute_result"
    }
   ],
   "execution_count": 83
  },
  {
   "cell_type": "markdown",
   "metadata": {},
   "source": [
    "#### PAPER DOLL: Given a string, return a string where for every character in the original there are three characters\n",
    "    paper_doll('Hello') --> 'HHHeeellllllooo'\n",
    "    paper_doll('Mississippi') --> 'MMMiiissssssiiippppppiii'"
   ]
  },
  {
   "cell_type": "code",
   "metadata": {
    "collapsed": true,
    "ExecuteTime": {
     "end_time": "2025-10-07T06:48:59.239198Z",
     "start_time": "2025-10-07T06:48:59.231849Z"
    }
   },
   "source": [
    "def paper_doll(text):\n",
    "    new_text=''\n",
    "    for letter in text:\n",
    "        new_text += letter*3\n",
    "    return new_text"
   ],
   "outputs": [],
   "execution_count": 84
  },
  {
   "cell_type": "code",
   "metadata": {
    "collapsed": true,
    "ExecuteTime": {
     "end_time": "2025-10-07T06:49:01.969144Z",
     "start_time": "2025-10-07T06:49:01.945816Z"
    }
   },
   "source": [
    "# Check\n",
    "paper_doll('Hello')"
   ],
   "outputs": [
    {
     "data": {
      "text/plain": [
       "'HHHeeellllllooo'"
      ]
     },
     "execution_count": 85,
     "metadata": {},
     "output_type": "execute_result"
    }
   ],
   "execution_count": 85
  },
  {
   "cell_type": "code",
   "metadata": {
    "collapsed": true,
    "ExecuteTime": {
     "end_time": "2025-10-07T06:49:05.728482Z",
     "start_time": "2025-10-07T06:49:05.717139Z"
    }
   },
   "source": [
    "# Check\n",
    "paper_doll('Mississippi')"
   ],
   "outputs": [
    {
     "data": {
      "text/plain": [
       "'MMMiiissssssiiissssssiiippppppiii'"
      ]
     },
     "execution_count": 86,
     "metadata": {},
     "output_type": "execute_result"
    }
   ],
   "execution_count": 86
  },
  {
   "cell_type": "markdown",
   "metadata": {},
   "source": [
    "#### BLACKJACK: Given three integers between 1 and 11, if their sum is less than or equal to 21, return their sum. If their sum exceeds 21 *and* there's an eleven, reduce the total sum by 10. Finally, if the sum (even after adjustment) exceeds 21, return 'BUST'\n",
    "    blackjack(5,6,7) --> 18\n",
    "    blackjack(9,9,9) --> 'BUST'\n",
    "    blackjack(9,9,11) --> 19"
   ]
  },
  {
   "cell_type": "code",
   "metadata": {
    "collapsed": true,
    "ExecuteTime": {
     "end_time": "2025-10-07T06:57:27.549375Z",
     "start_time": "2025-10-07T06:57:27.533120Z"
    }
   },
   "source": [
    "def blackjack(a,b,c):\n",
    "    total_sum=0\n",
    "    while 1<=a<=11 and 1<=b<=11 and 1<=c<=11:\n",
    "        total_sum = a+b+c\n",
    "        if total_sum<=21:\n",
    "            return total_sum\n",
    "        elif total_sum>21 and (a==11 or b==11 or c==11):\n",
    "            total_sum-=10\n",
    "            return total_sum\n",
    "        elif total_sum>21:\n",
    "            return 'BUST'\n",
    "    return None"
   ],
   "outputs": [],
   "execution_count": 109
  },
  {
   "cell_type": "code",
   "metadata": {
    "collapsed": true,
    "ExecuteTime": {
     "end_time": "2025-10-07T06:57:29.331460Z",
     "start_time": "2025-10-07T06:57:29.320013Z"
    }
   },
   "source": [
    "# Check\n",
    "blackjack(5,6,7)"
   ],
   "outputs": [
    {
     "data": {
      "text/plain": [
       "18"
      ]
     },
     "execution_count": 110,
     "metadata": {},
     "output_type": "execute_result"
    }
   ],
   "execution_count": 110
  },
  {
   "cell_type": "code",
   "metadata": {
    "collapsed": true,
    "ExecuteTime": {
     "end_time": "2025-10-07T06:57:31.091405Z",
     "start_time": "2025-10-07T06:57:31.080074Z"
    }
   },
   "source": [
    "# Check\n",
    "blackjack(9,9,9)"
   ],
   "outputs": [
    {
     "data": {
      "text/plain": [
       "'BUST'"
      ]
     },
     "execution_count": 111,
     "metadata": {},
     "output_type": "execute_result"
    }
   ],
   "execution_count": 111
  },
  {
   "cell_type": "code",
   "metadata": {
    "collapsed": true,
    "ExecuteTime": {
     "end_time": "2025-10-07T06:57:32.981629Z",
     "start_time": "2025-10-07T06:57:32.970053Z"
    }
   },
   "source": [
    "# Check\n",
    "blackjack(9,9,11)"
   ],
   "outputs": [
    {
     "data": {
      "text/plain": [
       "19"
      ]
     },
     "execution_count": 112,
     "metadata": {},
     "output_type": "execute_result"
    }
   ],
   "execution_count": 112
  },
  {
   "cell_type": "markdown",
   "metadata": {},
   "source": [
    "#### SUMMER OF '69: Return the sum of the numbers in the array, except ignore sections of numbers starting with a 6 and extending to the next 9 (every 6 will be followed by at least one 9). Return 0 for no numbers.\n",
    " \n",
    "    summer_69([1, 3, 5]) --> 9\n",
    "    summer_69([4, 5, 6, 7, 8, 9]) --> 9\n",
    "    summer_69([2, 1, 6, 9, 11]) --> 14"
   ]
  },
  {
   "cell_type": "code",
   "metadata": {
    "collapsed": true,
    "ExecuteTime": {
     "end_time": "2025-10-07T06:59:26.776599Z",
     "start_time": "2025-10-07T06:59:26.767795Z"
    }
   },
   "source": [
    "def summer_69(arr):\n",
    "    total_sum=0\n",
    "    for num in arr:\n",
    "        if not (6<=num<=9):\n",
    "            total_sum+=num\n",
    "    return total_sum"
   ],
   "outputs": [],
   "execution_count": 113
  },
  {
   "cell_type": "code",
   "metadata": {
    "collapsed": true,
    "ExecuteTime": {
     "end_time": "2025-10-07T06:59:28.911406Z",
     "start_time": "2025-10-07T06:59:28.900422Z"
    }
   },
   "source": [
    "# Check\n",
    "summer_69([1, 3, 5])"
   ],
   "outputs": [
    {
     "data": {
      "text/plain": [
       "9"
      ]
     },
     "execution_count": 114,
     "metadata": {},
     "output_type": "execute_result"
    }
   ],
   "execution_count": 114
  },
  {
   "cell_type": "code",
   "metadata": {
    "collapsed": true,
    "ExecuteTime": {
     "end_time": "2025-10-07T06:59:35.479446Z",
     "start_time": "2025-10-07T06:59:35.467381Z"
    }
   },
   "source": [
    "# Check\n",
    "summer_69([4, 5, 6, 7, 8, 9])"
   ],
   "outputs": [
    {
     "data": {
      "text/plain": [
       "9"
      ]
     },
     "execution_count": 115,
     "metadata": {},
     "output_type": "execute_result"
    }
   ],
   "execution_count": 115
  },
  {
   "cell_type": "code",
   "metadata": {
    "collapsed": true,
    "ExecuteTime": {
     "end_time": "2025-10-07T06:59:38.662289Z",
     "start_time": "2025-10-07T06:59:38.651790Z"
    }
   },
   "source": [
    "# Check\n",
    "summer_69([2, 1, 6, 9, 11])"
   ],
   "outputs": [
    {
     "data": {
      "text/plain": [
       "14"
      ]
     },
     "execution_count": 116,
     "metadata": {},
     "output_type": "execute_result"
    }
   ],
   "execution_count": 116
  },
  {
   "cell_type": "markdown",
   "metadata": {},
   "source": [
    "# CHALLENGING PROBLEMS"
   ]
  },
  {
   "cell_type": "markdown",
   "metadata": {},
   "source": [
    "#### SPY GAME: Write a function that takes in a list of integers and returns True if it contains 007 in order\n",
    "\n",
    "     spy_game([1,2,4,0,0,7,5]) --> True\n",
    "     spy_game([1,0,2,4,0,5,7]) --> True\n",
    "     spy_game([1,7,2,0,4,5,0]) --> False\n"
   ]
  },
  {
   "cell_type": "code",
   "metadata": {
    "collapsed": true,
    "ExecuteTime": {
     "end_time": "2025-10-07T07:20:09.908677Z",
     "start_time": "2025-10-07T07:20:09.898696Z"
    }
   },
   "source": [
    "def spy_game(nums):\n",
    "    found = [0, 0, 7]\n",
    "    for n in nums:\n",
    "        if n == found[0]:\n",
    "            found.pop(0)\n",
    "        if not found:\n",
    "            return True\n",
    "    return False\n",
    "        # if nums[index]==0:\n",
    "        #     for new_index in range(index, len(nums)):\n",
    "        #         if nums[new_index]==0:\n",
    "        #             for new_index_2 in range(new_index, len(nums)):\n",
    "        #                 if nums[new_index_2]==0:\n",
    "        #                     for new_index_3 in range(new_index, len(nums)):\n",
    "        #                         if nums[new_index_3]==7:\n",
    "        #                             return True\n",
    "        #                         else:\n",
    "        #                             continue\n",
    "    return False\n"
   ],
   "outputs": [],
   "execution_count": 134
  },
  {
   "cell_type": "code",
   "metadata": {
    "collapsed": true,
    "ExecuteTime": {
     "end_time": "2025-10-07T07:20:14.106452Z",
     "start_time": "2025-10-07T07:20:14.095257Z"
    }
   },
   "source": [
    "# Check\n",
    "spy_game([1,2,4,0,0,7,5])"
   ],
   "outputs": [
    {
     "data": {
      "text/plain": [
       "True"
      ]
     },
     "execution_count": 135,
     "metadata": {},
     "output_type": "execute_result"
    }
   ],
   "execution_count": 135
  },
  {
   "cell_type": "code",
   "metadata": {
    "collapsed": true,
    "ExecuteTime": {
     "end_time": "2025-10-07T07:20:15.381670Z",
     "start_time": "2025-10-07T07:20:15.369337Z"
    }
   },
   "source": [
    "# Check\n",
    "spy_game([1,0,2,4,0,5,7])"
   ],
   "outputs": [
    {
     "data": {
      "text/plain": [
       "True"
      ]
     },
     "execution_count": 136,
     "metadata": {},
     "output_type": "execute_result"
    }
   ],
   "execution_count": 136
  },
  {
   "cell_type": "code",
   "metadata": {
    "collapsed": true,
    "ExecuteTime": {
     "end_time": "2025-10-07T07:20:16.615798Z",
     "start_time": "2025-10-07T07:20:16.603029Z"
    }
   },
   "source": [
    "# Check\n",
    "spy_game([1,7,2,0,4,5,0])"
   ],
   "outputs": [
    {
     "data": {
      "text/plain": [
       "False"
      ]
     },
     "execution_count": 137,
     "metadata": {},
     "output_type": "execute_result"
    }
   ],
   "execution_count": 137
  },
  {
   "cell_type": "markdown",
   "metadata": {},
   "source": [
    "#### COUNT PRIMES: Write a function that returns the *number* of prime numbers that exist up to and including a given number\n",
    "    count_primes(100) --> 25\n",
    "\n",
    "By convention, 0 and 1 are not prime."
   ]
  },
  {
   "cell_type": "code",
   "metadata": {
    "collapsed": true,
    "ExecuteTime": {
     "end_time": "2025-10-07T07:33:07.604823Z",
     "start_time": "2025-10-07T07:33:07.597399Z"
    }
   },
   "source": [
    "def count_primes(num):\n",
    "    count=0\n",
    "    if num<=1:\n",
    "        return False\n",
    "    for num_item in range(2,num+1):\n",
    "        is_prime=True\n",
    "        for i in range(2,int(num_item**0.5)+1):\n",
    "            if num_item % i == 0:\n",
    "                is_prime=False\n",
    "                break\n",
    "        if is_prime:\n",
    "            count+=1\n",
    "    return count"
   ],
   "outputs": [],
   "execution_count": 172
  },
  {
   "cell_type": "code",
   "metadata": {
    "collapsed": true,
    "ExecuteTime": {
     "end_time": "2025-10-07T07:33:08.830159Z",
     "start_time": "2025-10-07T07:33:08.813755Z"
    }
   },
   "source": [
    "# Check\n",
    "count_primes(100)"
   ],
   "outputs": [
    {
     "data": {
      "text/plain": [
       "25"
      ]
     },
     "execution_count": 173,
     "metadata": {},
     "output_type": "execute_result"
    }
   ],
   "execution_count": 173
  },
  {
   "cell_type": "markdown",
   "metadata": {},
   "source": [
    "### Just for fun:\n",
    "#### PRINT BIG: Write a function that takes in a single letter, and returns a 5x5 representation of that letter\n",
    "    print_big('a')\n",
    "    \n",
    "    out:   *  \n",
    "          * *\n",
    "         *****\n",
    "         *   *\n",
    "         *   *\n",
    "HINT: Consider making a dictionary of possible patterns, and mapping the alphabet to specific 5-line combinations of patterns. <br>For purposes of this exercise, it's ok if your dictionary stops at \"E\"."
   ]
  },
  {
   "cell_type": "code",
   "metadata": {
    "collapsed": true,
    "ExecuteTime": {
     "end_time": "2025-10-07T07:44:46.074955Z",
     "start_time": "2025-10-07T07:44:46.059182Z"
    }
   },
   "source": [
    "def print_big(letter):\n",
    "    alphabet = {\n",
    "        \"a\": [\n",
    "            \"  *  \",\n",
    "            \" * * \",\n",
    "            \"*****\",\n",
    "            \"*   *\",\n",
    "            \"*   *\"\n",
    "        ],\n",
    "        \"b\": [\n",
    "            \"**** \",\n",
    "            \"*   *\",\n",
    "            \"**** \",\n",
    "            \"*   *\",\n",
    "            \"*   *\",\n",
    "            \"**** \"\n",
    "        ],\n",
    "        \"c\": [\n",
    "            \"**** \",\n",
    "            \"*    \",\n",
    "            \"*    \",\n",
    "            \"**** \"\n",
    "        ],\n",
    "        \"d\": [\n",
    "            \"**** \",\n",
    "            \"*   *\",\n",
    "            \"*   *\",\n",
    "            \"*   *\",\n",
    "            \"*   *\",\n",
    "            \"**** \"\n",
    "        ],\n",
    "        \"e\": [\n",
    "            \"*****\",\n",
    "            \"*    \",\n",
    "            \"*    \",\n",
    "            \"*****\",\n",
    "            \"*    \",\n",
    "            \"*    \",\n",
    "            \"*****\"\n",
    "        ]\n",
    "    }\n",
    "\n",
    "    # Return the list of strings for the letter\n",
    "    return \"\\n\".join(alphabet[letter.lower()])\n"
   ],
   "outputs": [],
   "execution_count": 182
  },
  {
   "metadata": {},
   "cell_type": "code",
   "outputs": [],
   "execution_count": null,
   "source": ""
  },
  {
   "metadata": {},
   "cell_type": "code",
   "outputs": [],
   "execution_count": null,
   "source": ""
  },
  {
   "cell_type": "code",
   "metadata": {
    "collapsed": true,
    "ExecuteTime": {
     "end_time": "2025-10-07T07:44:52.798550Z",
     "start_time": "2025-10-07T07:44:52.786520Z"
    }
   },
   "source": [
    "print_big('a')"
   ],
   "outputs": [
    {
     "data": {
      "text/plain": [
       "'  *  \\n * * \\n*****\\n*   *\\n*   *'"
      ]
     },
     "execution_count": 183,
     "metadata": {},
     "output_type": "execute_result"
    }
   ],
   "execution_count": 183
  },
  {
   "cell_type": "markdown",
   "metadata": {},
   "source": [
    "## Great Job!"
   ]
  }
 ],
 "metadata": {
  "kernelspec": {
   "display_name": "Python 3",
   "language": "python",
   "name": "python3"
  },
  "language_info": {
   "codemirror_mode": {
    "name": "ipython",
    "version": 3
   },
   "file_extension": ".py",
   "mimetype": "text/x-python",
   "name": "python",
   "nbconvert_exporter": "python",
   "pygments_lexer": "ipython3",
   "version": "3.6.6"
  }
 },
 "nbformat": 4,
 "nbformat_minor": 2
}
